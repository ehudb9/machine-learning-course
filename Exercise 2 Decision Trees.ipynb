{
 "cells": [
  {
   "cell_type": "markdown",
   "metadata": {
    "nbgrader": {
     "grade": false,
     "grade_id": "cell-6bd0516e7cb654f5",
     "locked": true,
     "schema_version": 1,
     "solution": false
    }
   },
   "source": [
    "# Exercise 2: Decision Trees\n",
    "\n",
    "In this assignment you will implement a Decision Tree algorithm as learned in class.\n",
    "\n",
    "## Read the following instructions carefully:\n",
    "\n",
    "1. This jupyter notebook contains all the step by step instructions needed for this exercise.\n",
    "1. Submission includes this notebook only with the exercise number and your ID as the filename. For example: `hw2_123456789_987654321.ipynb` if you submitted in pairs and `hw2_123456789.ipynb` if you submitted the exercise alone.\n",
    "1. Write **efficient vectorized** code whenever possible. Some calculations in this exercise take several minutes when implemented efficiently, and might take much longer otherwise. Unnecessary loops will result in point deduction.\n",
    "1. You are responsible for the correctness of your code and should add as many tests as you see fit. Tests will not be graded nor checked.\n",
    "1. Write your functions in this notebook only. **Do not create Python modules and import them**.\n",
    "1. You are allowed to use functions and methods from the [Python Standard Library](https://docs.python.org/3/library/) and [numpy](https://www.numpy.org/devdocs/reference/) only. **Do not import anything else.**\n",
    "1. Your code must run without errors. Make sure your `numpy` version is at least 1.15.4 and that you are using at least python 3.6. Changes of the configuration we provided are at your own risk. Any code that cannot run will not be graded.\n",
    "1. Write your own code. Cheating will not be tolerated.\n",
    "1. Answers to qualitative questions should be written in **markdown** cells (with $\\LaTeX$ support). Answers that will be written in commented code blocks will not be checked.\n",
    "\n",
    "## In this exercise you will perform the following:\n",
    "1. Practice OOP in python.\n",
    "2. Implement two impurity measures: Gini and Entropy.\n",
    "3. Construct a decision tree algorithm.\n",
    "4. Prune the tree to achieve better results.\n",
    "5. Visualize your results."
   ]
  },
  {
   "cell_type": "markdown",
   "metadata": {},
   "source": [
    "# I have read and understood the instructions: ID"
   ]
  },
  {
   "cell_type": "code",
   "execution_count": 1,
   "metadata": {
    "nbgrader": {
     "grade": false,
     "grade_id": "cell-ed9fe7b1026e33cb",
     "locked": true,
     "schema_version": 1,
     "solution": false
    }
   },
   "outputs": [],
   "source": [
    "import numpy as np\n",
    "import pandas as pd\n",
    "import matplotlib.pyplot as plt\n",
    "\n",
    "# make matplotlib figures appear inline in the notebook\n",
    "%matplotlib inline\n",
    "plt.rcParams['figure.figsize'] = (10.0, 8.0) # set default size of plots\n",
    "plt.rcParams['image.interpolation'] = 'nearest'\n",
    "plt.rcParams['image.cmap'] = 'gray'\n",
    "\n",
    "# Ignore warnings\n",
    "import warnings\n",
    "warnings.filterwarnings('ignore')"
   ]
  },
  {
   "cell_type": "markdown",
   "metadata": {
    "nbgrader": {
     "grade": false,
     "grade_id": "cell-c6ac605270c2b091",
     "locked": true,
     "schema_version": 1,
     "solution": false
    }
   },
   "source": [
    "## Warmup - OOP in python\n",
    "\n",
    "Our desicion tree will be implemented using a dedicated python class. Python classes are very similar to classes in Java.\n",
    "\n",
    "\n",
    "You can use the following [site](https://jeffknupp.com/blog/2014/06/18/improve-your-python-python-classes-and-object-oriented-programming/) to learn about classes in python."
   ]
  },
  {
   "cell_type": "code",
   "execution_count": 2,
   "metadata": {},
   "outputs": [],
   "source": [
    "class Node(object):\n",
    "    def __init__(self, data):\n",
    "        self.data = data\n",
    "        self.children = []\n",
    "\n",
    "    def add_child(self, node):\n",
    "        self.children.append(node)"
   ]
  },
  {
   "cell_type": "code",
   "execution_count": 3,
   "metadata": {},
   "outputs": [
    {
     "data": {
      "text/plain": [
       "[<__main__.Node at 0x1c84dc5b460>, <__main__.Node at 0x1c84dc66310>]"
      ]
     },
     "execution_count": 3,
     "metadata": {},
     "output_type": "execute_result"
    }
   ],
   "source": [
    "n = Node(5)\n",
    "p = Node(6)\n",
    "q = Node(7)\n",
    "n.add_child(p)\n",
    "n.add_child(q)\n",
    "n.children"
   ]
  },
  {
   "cell_type": "markdown",
   "metadata": {
    "nbgrader": {
     "grade": false,
     "grade_id": "cell-2f1ceb251c649b62",
     "locked": true,
     "schema_version": 1,
     "solution": false
    }
   },
   "source": [
    "## Data preprocessing\n",
    "\n",
    "For the following exercise, we will use a dataset containing mushroom data `agaricus-lepiota.csv`. \n",
    "\n",
    "This data set includes descriptions of hypothetical samples corresponding to 23 species of gilled mushrooms in the Agaricus and Lepiota Family. Each species is identified as definitely edible, definitely poisonous, or of unknown edibility and not recommended. This latter class was combined with the poisonous\n",
    "one (=there are only two classes **edible** and **poisonous**). \n",
    "    \n",
    "The dataset contains 8124 observations with 22 features:\n",
    "1. cap-shape: bell=b,conical=c,convex=x,flat=f,knobbed=k,sunken=s\n",
    "2. cap-surface: fibrous=f,grooves=g,scaly=y,smooth=s\n",
    "3. cap-color: brown=n,buff=b,cinnamon=c,gray=g,green=r,pink=p,purple=u,red=e,white=w,yellow=y\n",
    "4. bruises: bruises=t,no=f\n",
    "5. odor: almond=a,anise=l,creosote=c,fishy=y,foul=f, musty=m,none=n,pungent=p,spicy=s\n",
    "6. gill-attachment: attached=a,descending=d,free=f,notched=n\n",
    "7. gill-spacing: close=c,crowded=w,distant=d\n",
    "8. gill-size: broad=b,narrow=n\n",
    "9. gill-color: black=k,brown=n,buff=b,chocolate=h,gray=g,green=r,orange=o,pink=p,purple=u,red=e,white=w,yellow=y\n",
    "10. stalk-shape: enlarging=e,tapering=t\n",
    "11. stalk-root: bulbous=b,club=c,cup=u,equal=e,rhizomorphs=z,rooted=r\n",
    "12. stalk-surface-above-ring: fibrous=f,scaly=y,silky=k,smooth=s\n",
    "13. stalk-surface-below-ring: fibrous=f,scaly=y,silky=k,smooth=s\n",
    "14. stalk-color-above-ring: brown=n,buff=b,cinnamon=c,gray=g,orange=o,pink=p,red=e,white=w,yellow=y\n",
    "15. stalk-color-below-ring: brown=n,buff=b,cinnamon=c,gray=g,orange=o,pink=p,red=e,white=w,yellow=y\n",
    "16. veil-type: partial=p,universal=u\n",
    "17. veil-color: brown=n,orange=o,white=w,yellow=y\n",
    "18. ring-number: none=n,one=o,two=t\n",
    "19. ring-type: cobwebby=c,evanescent=e,flaring=f,large=l,none=n,pendant=p,sheathing=s,zone=z\n",
    "20. spore-print-color: black=k,brown=n,buff=b,chocolate=h,green=r,orange=o,purple=u,white=w,yellow=y\n",
    "21. population: abundant=a,clustered=c,numerous=n,scattered=s,several=v,solitary=y\n",
    "22. habitat: grasses=g,leaves=l,meadows=m,paths=p,urban=u,waste=w,woods=d\n",
    "\n",
    "First, we will read and explore the data using pandas and the `.read_csv` method. Pandas is an open source library providing high-performance, easy-to-use data structures and data analysis tools for the Python programming language."
   ]
  },
  {
   "cell_type": "code",
   "execution_count": 4,
   "metadata": {
    "nbgrader": {
     "grade": false,
     "grade_id": "cell-d79cb4542926ad3f",
     "locked": true,
     "schema_version": 1,
     "solution": false
    }
   },
   "outputs": [],
   "source": [
    "# load dataset\n",
    "data = pd.read_csv('agaricus-lepiota.csv')"
   ]
  },
  {
   "cell_type": "markdown",
   "metadata": {},
   "source": [
    "One of the advantages of the Decision Tree algorithm is that almost no preprocessing is required. However, finding missing values is always required."
   ]
  },
  {
   "cell_type": "code",
   "execution_count": 5,
   "metadata": {},
   "outputs": [],
   "source": [
    "#############################################################################\n",
    "# TODO: Find the columns with missing values and remove them from the data.#\n",
    "#############################################################################\n",
    "data = data.dropna(axis=1)\n",
    "#############################################################################"
   ]
  },
  {
   "cell_type": "markdown",
   "metadata": {},
   "source": [
    "We will split the dataset to `Training` and `Testing` datasets."
   ]
  },
  {
   "cell_type": "code",
   "execution_count": 6,
   "metadata": {},
   "outputs": [
    {
     "name": "stdout",
     "output_type": "stream",
     "text": [
      "Training dataset shape:  (6093, 22)\n",
      "Testing dataset shape:  (2031, 22)\n"
     ]
    }
   ],
   "source": [
    "from sklearn.model_selection import train_test_split\n",
    "# Making sure the last column will hold the labels\n",
    "X, y = data.drop('class', axis=1), data['class']\n",
    "X = np.column_stack([X,y])\n",
    "# split dataset using random_state to get the same split each time\n",
    "X_train, X_test = train_test_split(X, random_state=99)\n",
    "\n",
    "print(\"Training dataset shape: \", X_train.shape)\n",
    "print(\"Testing dataset shape: \", X_test.shape)"
   ]
  },
  {
   "cell_type": "code",
   "execution_count": 7,
   "metadata": {},
   "outputs": [
    {
     "data": {
      "text/plain": [
       "(8124,)"
      ]
     },
     "execution_count": 7,
     "metadata": {},
     "output_type": "execute_result"
    }
   ],
   "source": [
    "y.shape"
   ]
  },
  {
   "cell_type": "markdown",
   "metadata": {
    "nbgrader": {
     "grade": false,
     "grade_id": "cell-fd7b0191f3f1e897",
     "locked": true,
     "schema_version": 1,
     "solution": false
    }
   },
   "source": [
    "## Impurity Measures\n",
    "\n",
    "Impurity is a measure of how often a randomly chosen element from the set would be incorrectly labeled if it was randomly labeled according to the distribution of labels in the subset. Implement the functions `calc_gini` and `calc_entropy`. You are encouraged to test your implementation (10 points)."
   ]
  },
  {
   "cell_type": "code",
   "execution_count": 8,
   "metadata": {},
   "outputs": [],
   "source": [
    "def calc_gini(data):\n",
    "    \"\"\"\n",
    "    Calculate gini impurity measure of a dataset.\n",
    " \n",
    "    Input:\n",
    "    - data: any dataset where the last column holds the labels.\n",
    " \n",
    "    Returns the gini impurity.    \n",
    "    \"\"\"\n",
    "    gini = 0.0\n",
    "    ###########################################################################\n",
    "    a = np.array(data[:,data.shape[1] - 1])\n",
    "    #counts the size of each attribute\n",
    "    unique, counts = np.unique(a, return_counts=True)\n",
    "    prob = np.array(counts)/np.array(data.shape[0])\n",
    "\n",
    "    gini = 1 - np.sum(np.square(prob))\n",
    "    ###########################################################################\n",
    "    return gini"
   ]
  },
  {
   "cell_type": "code",
   "execution_count": 9,
   "metadata": {},
   "outputs": [],
   "source": [
    "def calc_entropy(data):\n",
    "    \"\"\"\n",
    "    Calculate the entropy of a dataset.\n",
    "\n",
    "    Input:\n",
    "    - data: any dataset where the last column holds the labels.\n",
    "\n",
    "    Returns the entropy of the dataset.    \n",
    "    \"\"\"\n",
    "    entropy = 0.0\n",
    "    ###########################################################################\n",
    "    a = np.array(data[:,data.shape[1] - 1])####to check if its the num of attributes\n",
    "    #counts the size of each attribute\n",
    "    unique, counts = np.unique(a, return_counts=True)\n",
    "    prob = np.array(counts)/np.array(data.shape[0])\n",
    "    log = np.log2(prob)\n",
    "    entropy = -np.dot(prob, log)\n",
    "    ###########################################################################\n",
    "    return entropy"
   ]
  },
  {
   "cell_type": "code",
   "execution_count": 10,
   "metadata": {
    "scrolled": true
   },
   "outputs": [
    {
     "data": {
      "text/plain": [
       "(0.4995636322379775, 0.9993703627906085)"
      ]
     },
     "execution_count": 10,
     "metadata": {},
     "output_type": "execute_result"
    }
   ],
   "source": [
    "##### Your Tests Here #####\n",
    "calc_gini(X), calc_entropy(X)"
   ]
  },
  {
   "cell_type": "markdown",
   "metadata": {},
   "source": [
    "## Goodness of Split\n",
    "\n",
    "Given a feature the Goodnees of Split measures the reduction in the impurity if we split the data according to the feature.\n",
    "$$\n",
    "\\Delta\\varphi(S, A) = \\varphi(S) - \\sum_{v\\in Values(A)} \\frac{|S_v|}{|S|}\\varphi(S_v)\n",
    "$$\n",
    "\n",
    "In our implementation the goodness_of_split function will return either the Goodness of Split or the Gain Ratio as learned in class. You'll control the return value with the `gain_ratio` parameter. If this parameter will set to False (the default value) it will return the regular Goodness of Split. If it will set to True it will return the Gain Ratio.\n",
    "$$\n",
    "GainRatio(S,A)=\\frac{InformationGain(S,A)}{SplitInformation(S,A)}\n",
    "$$\n",
    "Where:\n",
    "$$\n",
    "InformationGain(S,A)=Goodness\\ of\\ Split\\ calculated\\ with\\ Entropy\\ as\\ the\\ Impurity\\ function \\\\\n",
    "SplitInformation(S,A)=- \\sum_{a\\in A} \\frac{|S_a|}{|S|}\\log\\frac{|S_a|}{|S|}\n",
    "$$\n",
    "NOTE: you can add more parameters to the function and you can also add more returning variables (The given parameters and the given returning variable should not be touch). (10 Points)"
   ]
  },
  {
   "cell_type": "code",
   "execution_count": 11,
   "metadata": {},
   "outputs": [],
   "source": [
    "def goodness_of_split(data, feature, impurity_func, gain_ratio=False):\n",
    "    \"\"\"\n",
    "    Calculate the goodness of split of a dataset given a feature and impurity function.\n",
    "\n",
    "    Input:\n",
    "    - data: any dataset where the last column holds the labels.\n",
    "    - feature: the feature index.\n",
    "    - impurity func: a function that calculates the impurity.\n",
    "    - gain_ratio: goodness of split or gain ratio flag.\n",
    "\n",
    "    Returns the goodness of split (or the Gain Ration).  \n",
    "    \"\"\"\n",
    "    ###########################################################################\n",
    "    # Calc Impurity (Entropy/Gini - by the given impuruty_func arg)\n",
    "    impurity_s = impurity_func(data=data)\n",
    "    list_features, counter_of_feature = (np.unique(data[:, feature], return_counts=True))\n",
    "#     print(list_features)\n",
    "    data_size = data.shape[0]\n",
    "    split_information = 0\n",
    "    goodness_sum = 0\n",
    "    \n",
    "    for i in range(len(list_features)):\n",
    "        p = counter_of_feature[i] / data_size        \n",
    "        #sum the entropy for splitinformation\n",
    "        split_information += p * np.log2(p)\n",
    "        \n",
    "        # Calc Impurity(Entropy/Gini) V for the the goodness\n",
    "        current_data = np.where(data[: ,feature] == list_features[i])\n",
    "        impurity_v = impurity_func(data[current_data[0]])\n",
    "        goodness_sum = goodness_sum +  (p * impurity_v)\n",
    "    \n",
    "    goodness = impurity_s - goodness_sum\n",
    "    \n",
    "    if gain_ratio == True:    \n",
    "        goodness = goodness / -split_information\n",
    "    ###########################################################################\n",
    "    return goodness   \n",
    "# Tests\n",
    "# goodness_of_split(data=X_train, feature=7, impurity_func=calc_entropy, gain_ratio=False)"
   ]
  },
  {
   "cell_type": "markdown",
   "metadata": {},
   "source": [
    "## Building a Decision Tree\n",
    "\n",
    "Use a Python class to construct the decision tree. Your class should support the following functionality:\n",
    "\n",
    "1. Initiating a node for a decision tree. You will need to use several class methods and class attributes and you are free to use them as you see fit. We recommend that every node will hold the feature and value used for the split and its children.\n",
    "2. Your code should support both Gini and Entropy as impurity measures. \n",
    "3. The provided data includes categorical data. In this exercise, when splitting a node create the number of children needed according to the attribute unique values.\n",
    "\n",
    "Complete the class `DecisionNode`. The structure of this class is entirely up to you. \n",
    "\n",
    "Complete the function `build_tree`. This function should get the training dataset and the impurity as inputs, initiate a root for the decision tree and construct the tree according to the procedure you learned in class. (30 points)"
   ]
  },
  {
   "cell_type": "code",
   "execution_count": 12,
   "metadata": {},
   "outputs": [],
   "source": [
    "class DecisionNode:\n",
    "    \"\"\"\n",
    "    This class will hold everything you require to construct a decision tree.\n",
    "    The structure of this class is up to you. However, you need to support basic \n",
    "    functionality as described above. It is highly recommended that you \n",
    "    first read and understand the entire exercise before diving into this class.\n",
    "    \"\"\"\n",
    "    def __init__(self, feature, feature_list, value, high, parent):\n",
    "        self.feature = feature # column index of criteria being tested\n",
    "        self.value = value\n",
    "        self.feature_list = feature_list\n",
    "        self.children = {}\n",
    "        \n",
    "        self.high = high\n",
    "        self.parent = parent\n",
    "        self.dichotom = {}\n",
    "        \n",
    "        self.pred = None\n",
    "       \n",
    "    def split_data(self, data, feature):\n",
    "        sorted_data = data[np.argsort(data[:,feature])]\n",
    "        \n",
    "        # split data by feature values\n",
    "        current = sorted_data[0][feature]\n",
    "        data_values = []\n",
    "        start = 0\n",
    "        for i in range (data.shape[0]):\n",
    "            if sorted_data[i][feature] != current:\n",
    "                data_values.append(sorted_data[start:i, :])\n",
    "                current = sorted_data[i][feature]\n",
    "                start = i\n",
    "        data_values.append(sorted_data[start:,:])\n",
    "        return data_values\n",
    "        \n",
    "    def build(self, data, impurity, gain_ratio, chi, max_depth):\n",
    "        best_feture = -1\n",
    "        max_gain = -1\n",
    "        for feature in self.feature_list:\n",
    "            current_gain = goodness_of_split(data, feature, impurity, gain_ratio)\n",
    "            if current_gain > max_gain:\n",
    "                best_feture = feature\n",
    "                max_gain = current_gain\n",
    "        self.feature = best_feture\n",
    "        is_pure = impurity(data);\n",
    "        if (self.high < max_depth) and (self.feature != -1) and (is_pure > 0):\n",
    "            if chi == 1:\n",
    "                self.create_children(data, impurity, gain_ratio, chi, max_depth, best_feture)\n",
    "            else:\n",
    "                X_2, DOF = self.calc_chi_square(data)\n",
    "                if DOF > 0 and (X_2 > chi_table.get(DOF).get(chi)):\n",
    "                    self.create_children(data, impurity, gain_ratio, chi, max_depth, best_feture)\n",
    "    \n",
    "    def create_children(self, data, impurity, gain_ratio, chi, max_depth, feature):\n",
    "        split_data = self.split_data(data, self.feature)\n",
    "        cur_feature_list = list(self.feature_list)\n",
    "        cur_feature_list.remove(self.feature)\n",
    "        for i in range(len(split_data)):\n",
    "            if(split_data[i].shape[1] > 0):\n",
    "                child = DecisionNode(None, cur_feature_list, split_data[i][0][feature], self.high + 1, self)\n",
    "                \n",
    "                check_class_values = np.array(np.unique(split_data[i][:,split_data[i].shape[1]-1], return_counts=True))\n",
    "                if check_class_values.shape[1] > 0:\n",
    "                    child.dichotom[check_class_values[0][0]] = check_class_values[1][0]\n",
    "                    if check_class_values.shape[1] > 1:\n",
    "                        child.dichotom[check_class_values[0][1]] = check_class_values[1][1]\n",
    "                self.add_child(child,child.value)\n",
    "                child.build(split_data[i], impurity, gain_ratio, chi, max_depth)\n",
    "    \n",
    "    def calc_chi_square(self, data):\n",
    "        split_data = self.split_data(data, self.feature)\n",
    "        D = data.shape[0]\n",
    "        # degree of freedom :number of attribute values – 1\n",
    "        DOF = len(split_data) - 1\n",
    "        e_f = np.zeros(len(split_data))\n",
    "        p_f = np.zeros(len(split_data))\n",
    "        dichotom_list = []\n",
    "        \n",
    "        for i in range(len(split_data)):\n",
    "            curr_value=(np.array(np.unique(split_data[i][:,split_data[i].shape[1]-1], return_counts=True)))\n",
    "            for j in range(curr_value.shape[1]):\n",
    "                if curr_value[0][j] == 'e':\n",
    "                    e_f[i] = curr_value[1][j]\n",
    "                else:\n",
    "                    p_f[i] = curr_value[1][j]\n",
    "            dichotom_list.append(curr_value)   \n",
    "        \n",
    "        P_e = np.sum(e_f) / D\n",
    "        P_p = np.sum(p_f) / D\n",
    "        D_f = p_f + e_f\n",
    "        E_e = np.dot(D_f,P_e)\n",
    "        E_p = np.dot(D_f,P_p)\n",
    "        \n",
    "        X_2 = np.sum(np.square(p_f-E_p) / E_p + np.square(e_f - E_e) / E_e)\n",
    "        return X_2, DOF\n",
    "    \n",
    "    def tree_depth(self):\n",
    "        if(len(self.children) == 0):\n",
    "            return 0\n",
    "        depth = []\n",
    "        for child in self.children.values():\n",
    "            depth.append(child.tree_depth())\n",
    "        return np.max(depth) + 1\n",
    "        \n",
    "    def add_child(self, node, value):\n",
    "        self.children[value] = node"
   ]
  },
  {
   "cell_type": "code",
   "execution_count": 13,
   "metadata": {},
   "outputs": [],
   "source": [
    "def build_tree(data, impurity, gain_ratio=False, chi=1, max_depth=1000):\n",
    "    \"\"\"\n",
    "    Build a tree using the given impurity measure and training dataset. \n",
    "    You are required to fully grow the tree until all leaves are pure. \n",
    "\n",
    "    Input:\n",
    "    - data: the training dataset.\n",
    "    - impurity: the chosen impurity measure. Notice that you can send a function\n",
    "                as an argument in python.\n",
    "    - gain_ratio: goodness of split or gain ratio flag\n",
    "    - chi: chi square p-value cut off (1 means no pruning)\n",
    "    - max_depth: the allowable depth of the tree\n",
    "\n",
    "    Output: the root node of the tree.\n",
    "    \"\"\"\n",
    "    root = None\n",
    "    ###########################################################################\n",
    "    feature_list = list(range(0,21))\n",
    "    #initiate a root nood\n",
    "    root = DecisionNode(None, feature_list, None, 0, None)\n",
    "    check_class_values = np.array(np.unique(data[:,data.shape[1]-1], return_counts=True))\n",
    "    \n",
    "    #setting its dichotom \n",
    "    if check_class_values.shape[1]>0:\n",
    "        root.dichotom[check_class_values[0][0]] = check_class_values[1][0]\n",
    "        if check_class_values.shape[1]>1:\n",
    "            root.dichotom[check_class_values[0][1]] = check_class_values[1][1]\n",
    "    \n",
    "    root.build(data, impurity, gain_ratio, chi, max_depth)\n",
    "    ###########################################################################\n",
    "    return root"
   ]
  },
  {
   "cell_type": "code",
   "execution_count": 14,
   "metadata": {},
   "outputs": [],
   "source": [
    "# python supports passing a function as an argument to another function.\n",
    "tree_gini = build_tree(data=X_train, impurity=calc_gini) # gini and goodness of split\n",
    "tree_entropy = build_tree(data=X_train, impurity=calc_entropy) # entropy and goodness of split\n",
    "tree_entropy_gain_ratio = build_tree(data=X_train, impurity=calc_entropy, gain_ratio=True) # entropy and gain ratio\n"
   ]
  },
  {
   "cell_type": "code",
   "execution_count": 15,
   "metadata": {},
   "outputs": [],
   "source": [
    "# print(tree_gini.feature_list)\n",
    "# print(tree_entropy.feature)\n",
    "# print(tree_entropy_gain_ratio.feature)    "
   ]
  },
  {
   "cell_type": "markdown",
   "metadata": {},
   "source": [
    "## Tree evaluation\n",
    "\n",
    "Complete the functions `predict` and `calc_accuracy`. (10 points)"
   ]
  },
  {
   "cell_type": "code",
   "execution_count": 16,
   "metadata": {},
   "outputs": [],
   "source": [
    "def predict(node, instance):\n",
    "    \"\"\"\n",
    "    Predict a given instance using the decision tree\n",
    " \n",
    "    Input:\n",
    "    - root: the root of the decision tree.\n",
    "    - instance: an row vector from the dataset. Note that the last element \n",
    "                of this vector is the label of the instance.\n",
    " \n",
    "    Output: the prediction of the instance.\n",
    "    \"\"\"\n",
    "    pred = None\n",
    "    ###########################################################################\n",
    "    i = 0\n",
    "    curr_node = node\n",
    "    while len(curr_node.children) > 0:\n",
    "        temp = curr_node.children.get(instance[curr_node.feature])\n",
    "        if temp == None:\n",
    "            break\n",
    "        else:\n",
    "            curr_node = temp    \n",
    "    node.pred = max(curr_node.dichotom, key=curr_node.dichotom.get)  \n",
    "    ###########################################################################\n",
    "    return node.pred"
   ]
  },
  {
   "cell_type": "code",
   "execution_count": 17,
   "metadata": {},
   "outputs": [],
   "source": [
    "def calc_accuracy(node, dataset):\n",
    "    \"\"\"\n",
    "    Predict a given dataset using the decision tree\n",
    " \n",
    "    Input:\n",
    "    - node: a node in the decision tree.\n",
    "    - dataset: the dataset on which the accuracy is evaluated\n",
    " \n",
    "    Output: the accuracy of the decision tree on the given dataset (%).\n",
    "    \"\"\"\n",
    "    accuracy = 0\n",
    "    ###########################################################################\n",
    "    size =  dataset.shape[0]\n",
    "    right_predict = 0\n",
    "    for i in range(size):\n",
    "        predict(node, dataset[i])\n",
    "        if node.pred == dataset[i][-1]:\n",
    "            right_predict += 1\n",
    "    accuracy = (right_predict/size) * 100\n",
    "  \n",
    "    ###########################################################################\n",
    "    return accuracy "
   ]
  },
  {
   "cell_type": "markdown",
   "metadata": {},
   "source": [
    "After building the three trees using the training set, you should calculate the accuracy on the test set. For each tree print the training and test accuracy. Select the tree that gave you the best test accuracy. For the rest of the exercise, use that tree (when you asked to build another tree use the same impurity function and same gain_ratio flag). "
   ]
  },
  {
   "cell_type": "code",
   "execution_count": 18,
   "metadata": {},
   "outputs": [
    {
     "name": "stdout",
     "output_type": "stream",
     "text": [
      "Tree Gini - Training: 100.0%, Test Accuracy: 77.30182176267849%\n",
      "Tree Entropy - Training: 100.0%, Test Accuracy: 77.15411127523387%\n",
      "Tree Entropy gain ratio - Training: 100.0%, Test Accuracy: 78.53274249138356%\n"
     ]
    }
   ],
   "source": [
    "#### Your code here ####\n",
    "tree_gini_accuracy_train = calc_accuracy(node=tree_gini, dataset=X_train)\n",
    "tree_entropy_accuracy_train = calc_accuracy(node=tree_entropy, dataset=X_train)\n",
    "tree_entropy_gr_accuracy_train = calc_accuracy(node=tree_entropy_gain_ratio, dataset=X_train)\n",
    "\n",
    "\n",
    "tree_gini_accuracy_test = calc_accuracy(node=tree_gini, dataset=X_test)\n",
    "tree_entropy_accuracy_test = calc_accuracy(node=tree_entropy, dataset=X_test)\n",
    "tree_entropy_gr_accuracy_test = calc_accuracy(node=tree_entropy_gain_ratio, dataset=X_test)\n",
    "\n",
    "\n",
    "print(\"Tree Gini - Training: {}%, Test Accuracy: {}%\".format(tree_gini_accuracy_train, tree_gini_accuracy_test))\n",
    "print(\"Tree Entropy - Training: {}%, Test Accuracy: {}%\".format(tree_entropy_accuracy_train, tree_entropy_accuracy_test))\n",
    "print(\"Tree Entropy gain ratio - Training: {}%, Test Accuracy: {}%\".format(tree_entropy_gr_accuracy_train, tree_entropy_gr_accuracy_test))\n",
    "\n",
    "\n",
    "# Tree with best Accuracy\n",
    "best_tree = tree_entropy_gain_ratio\n"
   ]
  },
  {
   "cell_type": "markdown",
   "metadata": {},
   "source": [
    "## Post pruning\n",
    "\n",
    "Iterate over all nodes in the tree that have at least a single child which is a leaf. For each such node, replace it with its most popular class. Calculate the accuracy on the testing dataset, pick the node that results in the highest testing accuracy and permanently change it in the tree. Repeat this process until you are left with a single node in the tree (the root). Finally, create a plot of the training and testing accuracies as a function of the number of nodes in the tree. (15 points)"
   ]
  },
  {
   "cell_type": "code",
   "execution_count": 19,
   "metadata": {},
   "outputs": [],
   "source": [
    "#### Your code here ####\n",
    "\n",
    "def parents_finder(root:DecisionNode , features_to_check=[]):\n",
    "        #stop condition\n",
    "    if len(root.children.values()) == 0:\n",
    "        return \n",
    "    for child in root.children.values():\n",
    "\n",
    "        if len(child.children) == 0:\n",
    "            features_to_check.append(root)\n",
    "        else :\n",
    "            parents_finder(child, features_to_check)\n",
    "    return features_to_check\n"
   ]
  },
  {
   "cell_type": "code",
   "execution_count": 20,
   "metadata": {},
   "outputs": [],
   "source": [
    "def check_must_popular(root, data, features_to_check=[]):\n",
    "    accuracys = {}\n",
    "    \n",
    "    for i in range(len(features_to_check)):\n",
    "       #turnning the current feature to a leaf\n",
    "        temp_children = features_to_check[i].children\n",
    "        temp_feature = features_to_check[i].feature\n",
    "        features_to_check[i].children = {}\n",
    "        features_to_check[i].feature = None\n",
    "        \n",
    "        #checking the accurancy after the change and saving in dict\n",
    "        acc = calc_accuracy(root, data)\n",
    "        accuracys[acc] = features_to_check[i]\n",
    "        \n",
    "        #returning to the prev statuse\n",
    "        features_to_check[i].children = temp_children\n",
    "        features_to_check[i].feature = temp_feature\n",
    "\n",
    "#     best = max(accuracys ,key=accuracys.key)\n",
    "    \n",
    "    v = list(accuracys.values())\n",
    "    k = list(accuracys.keys())\n",
    "    #returns node with the best accuracy\n",
    "    return v[k.index(max(k))]"
   ]
  },
  {
   "cell_type": "code",
   "execution_count": 21,
   "metadata": {},
   "outputs": [],
   "source": [
    "def count_nodes(node):\n",
    "    # counts the number of nodes offspring for a given node   \n",
    "    count = 1\n",
    "    for child in node.children.values():\n",
    "        count += count_nodes(child)\n",
    "    return count"
   ]
  },
  {
   "cell_type": "code",
   "execution_count": 36,
   "metadata": {},
   "outputs": [],
   "source": [
    "def post_pruning(root, flag_best=-1):\n",
    "    test_accuracy = []\n",
    "    train_accuracy = []\n",
    "    num_of_nodes = []\n",
    "    test_accuracy.append(calc_accuracy(root, X_test))\n",
    "    train_accuracy.append(calc_accuracy(root, X_train))\n",
    "    num_of_nodes.append(count_nodes(root))\n",
    "\n",
    "    while len(root.children.values()) > 0:\n",
    "        #if we've asked for the best pruning we will stop at the flag\n",
    "        if flag_best >= 0:\n",
    "            if len(num_of_nodes) > flag_best:\n",
    "                break\n",
    "        \n",
    "        features_to_check = parents_finder(root)\n",
    "        feature_to_remove = check_must_popular(root, X_test, features_to_check)\n",
    "        \n",
    "        feature_to_remove.children = {}\n",
    "        feature_to_remove.feature = None\n",
    "        acc_test=calc_accuracy(root, X_test)\n",
    "        test_accuracy.append(acc_test)\n",
    "        acc_train = calc_accuracy(root, X_train)\n",
    "        train_accuracy.append(acc_train)\n",
    "        num_of_nodes.append(count_nodes(root))\n",
    "    \n",
    "    return num_of_nodes, train_accuracy, test_accuracy"
   ]
  },
  {
   "cell_type": "code",
   "execution_count": 37,
   "metadata": {},
   "outputs": [
    {
     "ename": "KeyboardInterrupt",
     "evalue": "",
     "output_type": "error",
     "traceback": [
      "\u001b[1;31m---------------------------------------------------------------------------\u001b[0m",
      "\u001b[1;31mKeyboardInterrupt\u001b[0m                         Traceback (most recent call last)",
      "\u001b[1;32m<ipython-input-37-046c3d8d8a42>\u001b[0m in \u001b[0;36m<module>\u001b[1;34m\u001b[0m\n\u001b[1;32m----> 1\u001b[1;33m \u001b[0mnum_of_nodes\u001b[0m\u001b[1;33m,\u001b[0m \u001b[0mtrain_accuracy\u001b[0m\u001b[1;33m,\u001b[0m \u001b[0mtest_accuracy\u001b[0m \u001b[1;33m=\u001b[0m \u001b[0mpost_pruning\u001b[0m\u001b[1;33m(\u001b[0m\u001b[0mbest_tree\u001b[0m\u001b[1;33m)\u001b[0m\u001b[1;33m\u001b[0m\u001b[1;33m\u001b[0m\u001b[0m\n\u001b[0m\u001b[0;32m      2\u001b[0m \u001b[1;33m\u001b[0m\u001b[0m\n\u001b[0;32m      3\u001b[0m \u001b[1;33m\u001b[0m\u001b[0m\n\u001b[0;32m      4\u001b[0m \u001b[1;31m#ploting the results\u001b[0m\u001b[1;33m\u001b[0m\u001b[1;33m\u001b[0m\u001b[1;33m\u001b[0m\u001b[0m\n\u001b[0;32m      5\u001b[0m \u001b[0mplt\u001b[0m\u001b[1;33m.\u001b[0m\u001b[0mscatter\u001b[0m\u001b[1;33m(\u001b[0m\u001b[0mnum_of_nodes\u001b[0m\u001b[1;33m,\u001b[0m\u001b[0mtest_accuracy\u001b[0m\u001b[1;33m)\u001b[0m\u001b[1;33m\u001b[0m\u001b[1;33m\u001b[0m\u001b[0m\n",
      "\u001b[1;32m<ipython-input-36-22c8f2190c90>\u001b[0m in \u001b[0;36mpost_pruning\u001b[1;34m(root)\u001b[0m\n\u001b[0;32m      9\u001b[0m     \u001b[1;32mwhile\u001b[0m \u001b[0mlen\u001b[0m\u001b[1;33m(\u001b[0m\u001b[0mroot\u001b[0m\u001b[1;33m.\u001b[0m\u001b[0mchildren\u001b[0m\u001b[1;33m.\u001b[0m\u001b[0mvalues\u001b[0m\u001b[1;33m(\u001b[0m\u001b[1;33m)\u001b[0m\u001b[1;33m)\u001b[0m \u001b[1;33m>\u001b[0m \u001b[1;36m0\u001b[0m\u001b[1;33m:\u001b[0m\u001b[1;33m\u001b[0m\u001b[1;33m\u001b[0m\u001b[0m\n\u001b[0;32m     10\u001b[0m         \u001b[0mfeatures_to_check\u001b[0m \u001b[1;33m=\u001b[0m \u001b[0mparents_finder\u001b[0m\u001b[1;33m(\u001b[0m\u001b[0mroot\u001b[0m\u001b[1;33m)\u001b[0m\u001b[1;33m\u001b[0m\u001b[1;33m\u001b[0m\u001b[0m\n\u001b[1;32m---> 11\u001b[1;33m         \u001b[0mfeature_to_remove\u001b[0m \u001b[1;33m=\u001b[0m \u001b[0mcheck_must_popular\u001b[0m\u001b[1;33m(\u001b[0m\u001b[0mroot\u001b[0m\u001b[1;33m,\u001b[0m \u001b[0mX_test\u001b[0m\u001b[1;33m,\u001b[0m \u001b[0mfeatures_to_check\u001b[0m\u001b[1;33m)\u001b[0m\u001b[1;33m\u001b[0m\u001b[1;33m\u001b[0m\u001b[0m\n\u001b[0m\u001b[0;32m     12\u001b[0m \u001b[1;33m\u001b[0m\u001b[0m\n\u001b[0;32m     13\u001b[0m         \u001b[0mfeature_to_remove\u001b[0m\u001b[1;33m.\u001b[0m\u001b[0mchildren\u001b[0m \u001b[1;33m=\u001b[0m \u001b[1;33m{\u001b[0m\u001b[1;33m}\u001b[0m\u001b[1;33m\u001b[0m\u001b[1;33m\u001b[0m\u001b[0m\n",
      "\u001b[1;32m<ipython-input-20-d56f24d58990>\u001b[0m in \u001b[0;36mcheck_must_popular\u001b[1;34m(root, data, features_to_check)\u001b[0m\n\u001b[0;32m     10\u001b[0m \u001b[1;33m\u001b[0m\u001b[0m\n\u001b[0;32m     11\u001b[0m         \u001b[1;31m#checking the accurancy after the change and saving in dict\u001b[0m\u001b[1;33m\u001b[0m\u001b[1;33m\u001b[0m\u001b[1;33m\u001b[0m\u001b[0m\n\u001b[1;32m---> 12\u001b[1;33m         \u001b[0macc\u001b[0m \u001b[1;33m=\u001b[0m \u001b[0mcalc_accuracy\u001b[0m\u001b[1;33m(\u001b[0m\u001b[0mroot\u001b[0m\u001b[1;33m,\u001b[0m \u001b[0mdata\u001b[0m\u001b[1;33m)\u001b[0m\u001b[1;33m\u001b[0m\u001b[1;33m\u001b[0m\u001b[0m\n\u001b[0m\u001b[0;32m     13\u001b[0m         \u001b[0maccuracys\u001b[0m\u001b[1;33m[\u001b[0m\u001b[0macc\u001b[0m\u001b[1;33m]\u001b[0m \u001b[1;33m=\u001b[0m \u001b[0mfeatures_to_check\u001b[0m\u001b[1;33m[\u001b[0m\u001b[0mi\u001b[0m\u001b[1;33m]\u001b[0m\u001b[1;33m\u001b[0m\u001b[1;33m\u001b[0m\u001b[0m\n\u001b[0;32m     14\u001b[0m \u001b[1;33m\u001b[0m\u001b[0m\n",
      "\u001b[1;32m<ipython-input-17-d98aeeda73dd>\u001b[0m in \u001b[0;36mcalc_accuracy\u001b[1;34m(node, dataset)\u001b[0m\n\u001b[0;32m     14\u001b[0m     \u001b[0mright_predict\u001b[0m \u001b[1;33m=\u001b[0m \u001b[1;36m0\u001b[0m\u001b[1;33m\u001b[0m\u001b[1;33m\u001b[0m\u001b[0m\n\u001b[0;32m     15\u001b[0m     \u001b[1;32mfor\u001b[0m \u001b[0mi\u001b[0m \u001b[1;32min\u001b[0m \u001b[0mrange\u001b[0m\u001b[1;33m(\u001b[0m\u001b[0msize\u001b[0m\u001b[1;33m)\u001b[0m\u001b[1;33m:\u001b[0m\u001b[1;33m\u001b[0m\u001b[1;33m\u001b[0m\u001b[0m\n\u001b[1;32m---> 16\u001b[1;33m         \u001b[0mpredict\u001b[0m\u001b[1;33m(\u001b[0m\u001b[0mnode\u001b[0m\u001b[1;33m,\u001b[0m \u001b[0mdataset\u001b[0m\u001b[1;33m[\u001b[0m\u001b[0mi\u001b[0m\u001b[1;33m]\u001b[0m\u001b[1;33m)\u001b[0m\u001b[1;33m\u001b[0m\u001b[1;33m\u001b[0m\u001b[0m\n\u001b[0m\u001b[0;32m     17\u001b[0m         \u001b[1;32mif\u001b[0m \u001b[0mnode\u001b[0m\u001b[1;33m.\u001b[0m\u001b[0mpred\u001b[0m \u001b[1;33m==\u001b[0m \u001b[0mdataset\u001b[0m\u001b[1;33m[\u001b[0m\u001b[0mi\u001b[0m\u001b[1;33m]\u001b[0m\u001b[1;33m[\u001b[0m\u001b[1;33m-\u001b[0m\u001b[1;36m1\u001b[0m\u001b[1;33m]\u001b[0m\u001b[1;33m:\u001b[0m\u001b[1;33m\u001b[0m\u001b[1;33m\u001b[0m\u001b[0m\n\u001b[0;32m     18\u001b[0m             \u001b[0mright_predict\u001b[0m \u001b[1;33m+=\u001b[0m \u001b[1;36m1\u001b[0m\u001b[1;33m\u001b[0m\u001b[1;33m\u001b[0m\u001b[0m\n",
      "\u001b[1;32m<ipython-input-16-375bb8f27f0d>\u001b[0m in \u001b[0;36mpredict\u001b[1;34m(node, instance)\u001b[0m\n\u001b[1;32m----> 1\u001b[1;33m \u001b[1;32mdef\u001b[0m \u001b[0mpredict\u001b[0m\u001b[1;33m(\u001b[0m\u001b[0mnode\u001b[0m\u001b[1;33m,\u001b[0m \u001b[0minstance\u001b[0m\u001b[1;33m)\u001b[0m\u001b[1;33m:\u001b[0m\u001b[1;33m\u001b[0m\u001b[1;33m\u001b[0m\u001b[0m\n\u001b[0m\u001b[0;32m      2\u001b[0m     \"\"\"\n\u001b[0;32m      3\u001b[0m     \u001b[0mPredict\u001b[0m \u001b[0ma\u001b[0m \u001b[0mgiven\u001b[0m \u001b[0minstance\u001b[0m \u001b[0musing\u001b[0m \u001b[0mthe\u001b[0m \u001b[0mdecision\u001b[0m \u001b[0mtree\u001b[0m\u001b[1;33m\u001b[0m\u001b[1;33m\u001b[0m\u001b[0m\n\u001b[0;32m      4\u001b[0m \u001b[1;33m\u001b[0m\u001b[0m\n\u001b[0;32m      5\u001b[0m     \u001b[0mInput\u001b[0m\u001b[1;33m:\u001b[0m\u001b[1;33m\u001b[0m\u001b[1;33m\u001b[0m\u001b[0m\n",
      "\u001b[1;31mKeyboardInterrupt\u001b[0m: "
     ]
    }
   ],
   "source": [
    "num_of_nodes, train_accuracy, test_accuracy = post_pruning(best_tree)\n",
    "\n",
    "\n",
    "#ploting the results\n",
    "plt.scatter(num_of_nodes,test_accuracy)\n",
    "plt.scatter(num_of_nodes,train_accuracy)\n",
    "plt.xlabel('num of nodes')\n",
    "plt.ylabel('accuracy')\n",
    "plt.title('testing accuracy as a function of number of nodes')\n",
    "plt.legend(['test data', 'train data'])\n",
    "ymax = max(test_accuracy)\n",
    "xpos = test_accuracy.index(ymax)\n",
    "xmax = num_of_nodes[xpos]\n",
    "plt.scatter(xmax, ymax, s=2000, facecolors='none', edgecolors='r')\n",
    "plt.show()\n",
    "\n",
    "\n",
    "print(test_accuracy)\n",
    "print(train_accuracy)"
   ]
  },
  {
   "cell_type": "markdown",
   "metadata": {},
   "source": [
    "## Chi square pre-pruning\n",
    "\n",
    "Consider the following p-value cut-off values: [1 (no pruning), 0.5, 0.25, 0.1, 0.05, 0.0001 (max pruning)]. For each value, construct a tree and prune it according to the cut-off value. Next, calculate the training and testing accuracy. On a single plot, draw the training and testing accuracy as a function of the tuple (p-value, tree depth). Mark the best result on the graph with red circle. (15 points)"
   ]
  },
  {
   "cell_type": "code",
   "execution_count": 24,
   "metadata": {},
   "outputs": [],
   "source": [
    "### Chi square table values ###\n",
    "# The first key is the degree of freedom \n",
    "# The second key is the p-value cut-off\n",
    "# The values are the chi-statistic that you need to use in the pruning\n",
    "chi_table = {1: {0.5 : 0.45,\n",
    "                 0.25 : 1.32,\n",
    "                 0.1 : 2.71,\n",
    "                 0.05 : 3.84,\n",
    "                 0.0001 : 100000},\n",
    "             2: {0.5 : 1.39,\n",
    "                 0.25 : 2.77,\n",
    "                 0.1 : 4.60,\n",
    "                 0.05 : 5.99,\n",
    "                 0.0001 : 100000},\n",
    "             3: {0.5 : 2.37,\n",
    "                 0.25 : 4.11,\n",
    "                 0.1 : 6.25,\n",
    "                 0.05 : 7.82,\n",
    "                 0.0001 : 100000},\n",
    "             4: {0.5 : 3.36,\n",
    "                 0.25 : 5.38,\n",
    "                 0.1 : 7.78,\n",
    "                 0.05 : 9.49,\n",
    "                 0.0001 : 100000},\n",
    "             5: {0.5 : 4.35,\n",
    "                 0.25 : 6.63,\n",
    "                 0.1 : 9.24,\n",
    "                 0.05 : 11.07,\n",
    "                 0.0001 : 100000},\n",
    "             6: {0.5 : 5.35,\n",
    "                 0.25 : 7.84,\n",
    "                 0.1 : 10.64,\n",
    "                 0.05 : 12.59,\n",
    "                 0.0001 : 100000},\n",
    "             7: {0.5 : 6.35,\n",
    "                 0.25 : 9.04,\n",
    "                 0.1 : 12.01,\n",
    "                 0.05 : 14.07,\n",
    "                 0.0001 : 100000},\n",
    "             8: {0.5 : 7.34,\n",
    "                 0.25 : 10.22,\n",
    "                 0.1 : 13.36,\n",
    "                 0.05 : 15.51,\n",
    "                 0.0001 : 100000},\n",
    "             9: {0.5 : 8.34,\n",
    "                 0.25 : 11.39,\n",
    "                 0.1 : 14.68,\n",
    "                 0.05 : 16.92,\n",
    "                 0.0001 : 100000},\n",
    "             10: {0.5 : 9.34,\n",
    "                  0.25 : 12.55,\n",
    "                  0.1 : 15.99,\n",
    "                  0.05 : 18.31,\n",
    "                  0.0001 : 100000},\n",
    "             11: {0.5 : 10.34,\n",
    "                  0.25 : 13.7,\n",
    "                  0.1 : 17.27,\n",
    "                  0.05 : 19.68,\n",
    "                  0.0001 : 100000}}"
   ]
  },
  {
   "cell_type": "code",
   "execution_count": 25,
   "metadata": {},
   "outputs": [
    {
     "data": {
      "image/png": "[encoded data removed]",
      "text/plain": [
       "<Figure size 720x576 with 1 Axes>"
      ]
     },
     "metadata": {
      "needs_background": "light"
     },
     "output_type": "display_data"
    }
   ],
   "source": [
    "#### Your code here ####\n",
    "def chi_square_cla():\n",
    "#buliding the trees according to the p_values\n",
    "    p_value = [1, 0.5, 0.25, 0.1, 0.05, 0.0001]\n",
    "    test_accuracy = []\n",
    "    train_accuracy = []\n",
    "    depth_chi = []\n",
    "    \n",
    "    for i in range(len(p_value)):\n",
    "        chi_tree = build_tree(X_train, calc_entropy, gain_ratio=True, chi=p_value[i])\n",
    "        test_accuracy.append(calc_accuracy(chi_tree, X_test))\n",
    "        train_accuracy.append(calc_accuracy(chi_tree, X_train))\n",
    "        depth_chi.append(str((p_value[i], chi_tree.tree_depth())))\n",
    "\n",
    "\n",
    "    #ploting the results\n",
    "    plt.plot(depth_chi,train_accuracy,label='training', marker = 'o')\n",
    "    plt.plot(depth_chi,test_accuracy,label='testing', marker = 'o')\n",
    "    plt.scatter(depth_chi,test_accuracy)\n",
    "    plt.scatter(depth_chi,train_accuracy)\n",
    "    plt.xlabel('p-value and tree depth')\n",
    "    plt.ylabel('accuracy')\n",
    "    plt.title('testing accuracy as a function of the p value and tree depth')\n",
    "    plt.legend(['test data', 'train data'])\n",
    "    ymax = max(test_accuracy)\n",
    "    xpos = test_accuracy.index(ymax)\n",
    "    xmax = depth_chi[xpos]\n",
    "    plt.scatter(xmax, ymax, s=2000, facecolors='none', edgecolors='r')\n",
    "    plt.show()\n",
    "\n",
    "chi_square_cla()\n"
   ]
  },
  {
   "cell_type": "markdown",
   "metadata": {},
   "source": [
    "Build the best 2 trees:\n",
    "1. tree_max_depth - the best tree according to max_depth pruning\n",
    "1. tree_chi - the best tree according to chi square pruning"
   ]
  },
  {
   "cell_type": "code",
   "execution_count": 26,
   "metadata": {},
   "outputs": [],
   "source": [
    "#### Your code here ####\n",
    "\n",
    "# 0.1 is the best chi square pruning value\n",
    "tree_chi = build_tree(data=X_train, impurity=calc_entropy, gain_ratio=True,chi=0.1)"
   ]
  },
  {
   "cell_type": "code",
   "execution_count": 27,
   "metadata": {},
   "outputs": [],
   "source": [
    "\n",
    "\n",
    "# accordding to the correction from the piazza:\n",
    "\n",
    "# getting the best post pruning tree\n",
    "tree_forbest_pruning = build_tree(data=X_train, impurity=calc_entropy, gain_ratio=True,chi=1)\n",
    "\n",
    "v = list(test_accuracy.values())\n",
    "best_index = v.index(max(v))\n",
    "\n",
    "post_pruning(tree_forbest_pruning, best_index)"
   ]
  },
  {
   "cell_type": "markdown",
   "metadata": {},
   "source": [
    "## Number of Nodes\n",
    "\n",
    "Of the two trees above we will choose the one with fewer nodes. Complete the function counts_nodes and print the number of nodes in each tree. (5 points) "
   ]
  },
  {
   "cell_type": "code",
   "execution_count": 28,
   "metadata": {},
   "outputs": [
    {
     "name": "stdout",
     "output_type": "stream",
     "text": [
      "The number of nodes in tree_forbest_pruning is: 3317\n",
      "The number of nodes in tree_chi is: 55\n"
     ]
    }
   ],
   "source": [
    "def count_nodes(node):\n",
    "    \"\"\"\n",
    "    Count the number of node in a given tree\n",
    " \n",
    "    Input:\n",
    "    - node: a node in the decision tree.\n",
    " \n",
    "    Output: the number of node in the tree.\n",
    "    \"\"\"\n",
    "    ###########################################################################\n",
    "    \n",
    "    count = 1\n",
    "    \n",
    "    for child in node.children.values():\n",
    "        count += count_nodes(child)\n",
    "        \n",
    "    return count\n",
    "    \n",
    "    ###########################################################################\n",
    "# Tests\n",
    "print(\"The number of nodes in tree_forbest_pruning is: {}\".format(count_nodes(tree_forbest_pruning)))\n",
    "print(\"The number of nodes in tree_chi is: {}\".format(count_nodes(tree_chi)))"
   ]
  },
  {
   "cell_type": "markdown",
   "metadata": {},
   "source": [
    "## Print the tree\n",
    "\n",
    "Complete the function `print_tree` and execute it on your chosen tree. Your tree should be visualized clearly. You can use the following example as a reference:\n",
    "```\n",
    "[ROOT, feature=X0],\n",
    "  [X0=a, feature=X2]\n",
    "    [X2=c, leaf]: [{1.0: 10}]\n",
    "    [X2=d, leaf]: [{0.0: 10}]\n",
    "  [X0=y, feature=X5], \n",
    "    [X5=a, leaf]: [{1.0: 5}]\n",
    "    [X5=s, leaf]: [{0.0: 10}]\n",
    "  [X0=e, leaf]: [{0.0: 25, 1.0: 50}]\n",
    "```\n",
    "In each brackets:\n",
    "* The first argument is the parent feature with the value that led to current node\n",
    "* The second argument is the selected feature of the current node\n",
    "* If the current node is a leaf, you need to print also the labels and their counts\n",
    "\n",
    "(5 points)"
   ]
  },
  {
   "cell_type": "code",
   "execution_count": 29,
   "metadata": {},
   "outputs": [],
   "source": [
    "# you can change the function signeture\n",
    "def print_tree(node, depth=0, parent_feature='ROOT', feature_val='ROOT'):\n",
    "    '''\n",
    "    prints the tree according to the example above\n",
    "\n",
    "    Input:\n",
    "    - node: a node in the decision tree\n",
    "\n",
    "    This function has no return value\n",
    "    '''\n",
    "    ###########################################################################\n",
    "    space_size = \"\"\n",
    "    for i in range(node.high):\n",
    "        space_size = space_size + \"  \"\n",
    "            \n",
    "    if node.high == 0:\n",
    "        print(\"[\" + parent_feature + \", feture=X\"+ str(node.feature) +\"]\")\n",
    "        for child in node.children.values():\n",
    "            print_tree(child)\n",
    "    elif len(node.children) < 1:\n",
    "        print(space_size, \"[X\" + str(node.parent.feature) + \"=\" + str(node.value) + \", leaf]: [\"+ str(node.dichotom) + \"]\")\n",
    "        \n",
    "    else:\n",
    "        print(space_size, \"[X\" + str(node.parent.feature) + \"=\" + str(node.value) + \", feture=X\"+ str(node.feature) +\"]\")\n",
    "        for child in node.children.values():\n",
    "            print_tree(child)\n",
    "    \n",
    "    ###########################################################################"
   ]
  },
  {
   "cell_type": "code",
   "execution_count": 30,
   "metadata": {},
   "outputs": [
    {
     "name": "stdout",
     "output_type": "stream",
     "text": [
      "tree_chi:\n",
      "[ROOT, feture=X4]\n",
      "   [X4=a, leaf]: [{'e': 273, 'p': 31}]\n",
      "   [X4=c, leaf]: [{'e': 10, 'p': 137}]\n",
      "   [X4=f, feture=X10]\n",
      "     [X10=f, feture=X2]\n",
      "       [X2=b, leaf]: [{'e': 8, 'p': 30}]\n",
      "       [X2=g, leaf]: [{'e': 5, 'p': 26}]\n",
      "       [X2=w, leaf]: [{'e': 1, 'p': 35}]\n",
      "     [X10=k, leaf]: [{'e': 134, 'p': 1037}]\n",
      "     [X10=s, leaf]: [{'e': 22, 'p': 310}]\n",
      "   [X4=l, feture=X1]\n",
      "     [X1=f, leaf]: [{'e': 19, 'p': 1}]\n",
      "     [X1=s, leaf]: [{'e': 94, 'p': 16}]\n",
      "     [X1=y, leaf]: [{'e': 159, 'p': 10}]\n",
      "   [X4=m, leaf]: [{'e': 2, 'p': 25}]\n",
      "   [X4=n, feture=X7]\n",
      "     [X7=b, feture=X18]\n",
      "       [X18=b, leaf]: [{'e': 34, 'p': 2}]\n",
      "       [X18=k, leaf]: [{'e': 843, 'p': 93}]\n",
      "       [X18=n, leaf]: [{'e': 882, 'p': 105}]\n",
      "       [X18=o, feture=X19]\n",
      "         [X19=c, leaf]: [{'e': 12, 'p': 4}]\n",
      "         [X19=v, leaf]: [{'e': 16}]\n",
      "       [X18=r, leaf]: [{'e': 6, 'p': 46}]\n",
      "       [X18=w, leaf]: [{'e': 369, 'p': 33}]\n",
      "       [X18=y, leaf]: [{'e': 35, 'p': 3}]\n",
      "     [X7=n, feture=X3]\n",
      "       [X3=f, feture=X10]\n",
      "         [X10=f, leaf]: [{'e': 17, 'p': 3}]\n",
      "         [X10=k, leaf]: [{'p': 25}]\n",
      "         [X10=s, feture=X2]\n",
      "           [X2=c, leaf]: [{'e': 10}]\n",
      "           [X2=g, leaf]: [{'e': 36, 'p': 1}]\n",
      "           [X2=n, leaf]: [{'e': 37, 'p': 9}]\n",
      "           [X2=r, leaf]: [{'e': 9, 'p': 4}]\n",
      "           [X2=u, leaf]: [{'e': 14}]\n",
      "           [X2=w, leaf]: [{'e': 12, 'p': 1}]\n",
      "         [X10=y, leaf]: [{'p': 7}]\n",
      "       [X3=t, leaf]: [{'p': 8}]\n",
      "   [X4=p, feture=X0]\n",
      "     [X0=f, feture=X18]\n",
      "       [X18=k, leaf]: [{'e': 6, 'p': 43}]\n",
      "       [X18=n, leaf]: [{'e': 1, 'p': 43}]\n",
      "     [X0=x, leaf]: [{'e': 1, 'p': 89}]\n",
      "   [X4=s, feture=X13]\n",
      "     [X13=p, leaf]: [{'e': 12, 'p': 190}]\n",
      "     [X13=w, feture=X12]\n",
      "       [X12=p, leaf]: [{'e': 18, 'p': 88}]\n",
      "       [X12=w, feture=X0]\n",
      "         [X0=f, leaf]: [{'p': 38}]\n",
      "         [X0=k, leaf]: [{'e': 3, 'p': 30}]\n",
      "         [X0=x, leaf]: [{'e': 5, 'p': 34}]\n",
      "   [X4=y, feture=X1]\n",
      "     [X1=s, leaf]: [{'e': 18, 'p': 194}]\n",
      "     [X1=y, leaf]: [{'e': 31, 'p': 188}]\n"
     ]
    }
   ],
   "source": [
    "# we will print the tree with the fewer nodes -chi_tree\n",
    "print('tree_chi:')\n",
    "print_tree(tree_chi)\n"
   ]
  }
 ],
 "metadata": {
  "celltoolbar": "Create Assignment",
  "kernelspec": {
   "display_name": "Python 3",
   "language": "python",
   "name": "python3"
  },
  "language_info": {
   "codemirror_mode": {
    "name": "ipython",
    "version": 3
   },
   "file_extension": ".py",
   "mimetype": "text/x-python",
   "name": "python",
   "nbconvert_exporter": "python",
   "pygments_lexer": "ipython3",
   "version": "3.8.3"
  }
 },
 "nbformat": 4,
 "nbformat_minor": 4
}
